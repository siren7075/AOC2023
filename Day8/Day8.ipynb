{
  "nbformat": 4,
  "nbformat_minor": 0,
  "metadata": {
    "colab": {
      "provenance": [],
      "machine_shape": "hm",
      "include_colab_link": true
    },
    "kernelspec": {
      "name": "python3",
      "display_name": "Python 3"
    },
    "language_info": {
      "name": "python"
    }
  },
  "cells": [
    {
      "cell_type": "markdown",
      "metadata": {
        "id": "view-in-github",
        "colab_type": "text"
      },
      "source": [
        "<a href=\"https://colab.research.google.com/github/siren7075/AOC2023/blob/main/Day8/Day8.ipynb\" target=\"_parent\"><img src=\"https://colab.research.google.com/assets/colab-badge.svg\" alt=\"Open In Colab\"/></a>"
      ]
    },
    {
      "cell_type": "code",
      "source": [
        "import networkx as nx\n",
        "\n",
        "# contexts\n",
        "with open('input.txt', 'r') as file:\n",
        "    input_data = file.read().rstrip()\n",
        "parts = input_data.split(\"\\n\\n\")\n",
        "instructions = list(parts[0])\n",
        "instructions_part2 = list(parts[0]) # separate those so don't need to initiate again\n",
        "maps = \"\\n\\n\".join(parts[1:])\n",
        "\n",
        "mappings = {}\n",
        "lines = maps.split('\\n')\n",
        "for line in lines:\n",
        "    node, mapping = line.split(' = ')\n",
        "    left, right = mapping.strip('()').split(', ')\n",
        "    mappings[node] = (left, right)\n",
        "\n",
        "G = nx.DiGraph()\n",
        "current_position = 'AAA'\n",
        "end_position = 'ZZZ'\n",
        "nodes = []\n",
        "\n",
        "for node, (left, right) in mappings.items():\n",
        "    if node.endswith('A'):\n",
        "      nodes.append(node) # this is for part 2\n",
        "    G.add_edge(node, left, instruction='L')\n",
        "    G.add_edge(node, right, instruction='R')\n",
        "\n",
        "def move(neighbors, instruction, current_position):\n",
        "    if(len(neighbors) != 2):\n",
        "      current_position = neighbors[0]\n",
        "    elif instruction == 'L':\n",
        "        current_position = neighbors[0]\n",
        "    elif instruction == 'R':\n",
        "        current_position = neighbors[1]\n",
        "    return current_position"
      ],
      "metadata": {
        "id": "dv0qM01QY5z4"
      },
      "execution_count": 125,
      "outputs": []
    },
    {
      "cell_type": "code",
      "source": [
        "# part 1\n",
        "steps = -1\n",
        "while instructions:\n",
        "  for instruction in instructions:\n",
        "      neighbors = list(G.neighbors(current_position))\n",
        "      steps += 1\n",
        "      # reset instructions to escape the loop\n",
        "      if current_position == end_position:\n",
        "          instructions = []\n",
        "          break\n",
        "      current_position = move(neighbors, instruction, current_position)\n",
        "\n",
        "print(steps)"
      ],
      "metadata": {
        "id": "t6Vqw8XBgK9-",
        "outputId": "af07c1f7-5d76-471b-c96c-6b4522e8db55",
        "colab": {
          "base_uri": "https://localhost:8080/"
        }
      },
      "execution_count": 126,
      "outputs": [
        {
          "output_type": "stream",
          "name": "stdout",
          "text": [
            "11309\n"
          ]
        }
      ]
    },
    {
      "cell_type": "code",
      "source": [
        "# part 2\n",
        "\n",
        "import math\n",
        "\n",
        "steps_to_z = {node: [] for node in nodes}\n",
        "instructions_copy = instructions_part2.copy()\n",
        "\n",
        "for node in nodes:\n",
        "  current_position = node\n",
        "  instructions_part2 = instructions_copy\n",
        "  nodes_z = []\n",
        "  steps = -1\n",
        "  while instructions_part2:\n",
        "    for instruction in instructions_part2:\n",
        "        steps += 1\n",
        "        neighbors = list(G.neighbors(current_position))\n",
        "        if current_position.endswith('Z'):\n",
        "          # reset instructions to escape the loop for this node\n",
        "          if current_position in nodes_z:\n",
        "            instructions_part2 = []\n",
        "            break\n",
        "          steps_to_z[node].append(steps)\n",
        "          nodes_z.append(current_position)\n",
        "        current_position = move(neighbors, instruction, current_position)\n",
        "\n",
        "print(steps_to_z)\n",
        "\n",
        "#since those A to Z pairs are not one to many, just calculate the least common multiple for now\n",
        "steps = [step[0] for step in steps_to_z.values()]\n",
        "lcm = 1\n",
        "for step in steps:\n",
        "    lcm = lcm * step // math.gcd(lcm, step)\n",
        "print(lcm)\n"
      ],
      "metadata": {
        "id": "ymg0Mb6-gNP8",
        "outputId": "9e4a8616-83f4-4744-c90b-d0a67098999e",
        "colab": {
          "base_uri": "https://localhost:8080/"
        }
      },
      "execution_count": 128,
      "outputs": [
        {
          "output_type": "stream",
          "name": "stdout",
          "text": [
            "{'VBA': [16043], 'TVA': [20777], 'DVA': [13939], 'VPA': [18673], 'AAA': [11309], 'DTA': [17621]}\n",
            "13740108158591\n"
          ]
        }
      ]
    }
  ]
}