{
  "cells": [
    {
      "cell_type": "markdown",
      "metadata": {
        "id": "view-in-github",
        "colab_type": "text"
      },
      "source": [
        "<a href=\"https://colab.research.google.com/github/siren7075/AOC2023/blob/main/Day3/Day3.ipynb\" target=\"_parent\"><img src=\"https://colab.research.google.com/assets/colab-badge.svg\" alt=\"Open In Colab\"/></a>"
      ]
    },
    {
      "cell_type": "code",
      "source": [
        "import re\n",
        "\n",
        "nums_info = []\n",
        "lines = []\n",
        "matched_nums = []\n",
        "part_nums_info = []\n",
        "\n",
        "def extract_numbers_with_indexes(lines):\n",
        "    exp_num = r'\\d+'  # match numbers\n",
        "    for i, line in enumerate(lines):\n",
        "        matches = re.finditer(exp_num, line)\n",
        "        for match in matches:\n",
        "            number = match.group()\n",
        "            start_index = match.start()\n",
        "            end_index = match.end()\n",
        "            nums_info.append((number, i, start_index, end_index))\n",
        "    return nums_info\n",
        "\n",
        "def find_numbers_with_adjacent_symbols(nums_info):\n",
        "    exp_symbol = r'[^0-9.]'  # match symbols except numbers and point\n",
        "    length = len(lines)\n",
        "    width = len(lines[0])\n",
        "    max_end_index = width\n",
        "    min_start_index = 0\n",
        "    for number, i, start_index, end_index in nums_info:\n",
        "      left_start_index = min_start_index if start_index == min_start_index else start_index - 1\n",
        "      right_end_index = max_end_index if end_index == max_end_index - 1 else end_index + 1\n",
        "      left = '' if start_index == min_start_index else lines[i][left_start_index]\n",
        "      right = '' if end_index == max_end_index else lines[i][end_index]\n",
        "      above = '' if i == 0 else lines[i-1][left_start_index: right_end_index]\n",
        "      below = '' if i == length - 1 else lines [i+1][left_start_index: right_end_index]\n",
        "      if re.search(exp_symbol, left + right + above + below):\n",
        "        matched_nums.append(int(number))\n",
        "        part_nums_info.append((int(number), i, start_index, end_index))\n",
        "\n",
        "gears_info = []\n",
        "\n",
        "def extract_gears(lines):\n",
        "    exp_star = r'\\*'  # match star\n",
        "    for i, line in enumerate(lines):\n",
        "        matches = re.finditer(exp_star, line)\n",
        "        for match in matches:\n",
        "            number = match.group()\n",
        "            index = match.start()\n",
        "            row = i\n",
        "            gears_info.append((row, index))\n",
        "    return gears_info\n",
        "\n",
        "def sum_gears_with_two_adjacent_part_numbers(part_nums_info, gears_info):\n",
        "    sum_gear = 0\n",
        "    for row, index in gears_info:\n",
        "      # info: (int(number), i, start_index, end_index), this end_index actually needs to minus 1\n",
        "      matched_part_nums = []\n",
        "      matched_part_nums.extend([info for info in part_nums_info if info[1] == row-1 and info[2] - 1 <= index <= info[3]]) #above line\n",
        "      matched_part_nums.extend([info for info in part_nums_info if info[1] == row and (info[2] == index + 1 or info[3] == index)]) #same line\n",
        "      matched_part_nums.extend([info for info in part_nums_info if info[1] == row+1 and info[2] - 1 <= index <= info[3]]) #below line\n",
        "      if len(matched_part_nums) == 2:\n",
        "        sum_gear += matched_part_nums[0][0]*matched_part_nums[1][0]\n",
        "    return sum_gear\n",
        "\n",
        "\n",
        "with open('input.txt', 'r') as f:\n",
        "    lines = f.read().strip().split(\"\\n\")\n",
        "    # part 1\n",
        "    extract_numbers_with_indexes(lines)\n",
        "    find_numbers_with_adjacent_symbols(nums_info)\n",
        "    print(sum(matched_nums))\n",
        "\n",
        "    # part 2\n",
        "    extract_gears(lines)\n",
        "    sum_gear = sum_gears_with_two_adjacent_part_numbers(part_nums_info, gears_info)\n",
        "    print(sum_gear)\n",
        "\n"
      ],
      "metadata": {
        "id": "SPlAG8zuJ_R1",
        "outputId": "e7886f21-b7fd-4e71-90c9-bf7f3cb5cddc",
        "colab": {
          "base_uri": "https://localhost:8080/"
        }
      },
      "execution_count": 95,
      "outputs": [
        {
          "output_type": "stream",
          "name": "stdout",
          "text": [
            "527364\n",
            "79026871\n"
          ]
        }
      ]
    }
  ],
  "metadata": {
    "colab": {
      "name": "Welcome To Colaboratory",
      "provenance": [],
      "include_colab_link": true
    },
    "kernelspec": {
      "display_name": "Python 3",
      "name": "python3"
    }
  },
  "nbformat": 4,
  "nbformat_minor": 0
}