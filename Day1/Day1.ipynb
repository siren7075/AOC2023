{
  "nbformat": 4,
  "nbformat_minor": 0,
  "metadata": {
    "colab": {
      "provenance": [],
      "authorship_tag": "ABX9TyN23ZSgsbjqfO69XFlawSjN",
      "include_colab_link": true
    },
    "kernelspec": {
      "name": "python3",
      "display_name": "Python 3"
    },
    "language_info": {
      "name": "python"
    }
  },
  "cells": [
    {
      "cell_type": "markdown",
      "metadata": {
        "id": "view-in-github",
        "colab_type": "text"
      },
      "source": [
        "<a href=\"https://colab.research.google.com/github/siren7075/AOC2023/blob/main/Day1/Day1.ipynb\" target=\"_parent\"><img src=\"https://colab.research.google.com/assets/colab-badge.svg\" alt=\"Open In Colab\"/></a>"
      ]
    },
    {
      "cell_type": "code",
      "source": [
        "!pip install num2words\n",
        "!pip install word2number"
      ],
      "metadata": {
        "id": "xz5GVjoMjFza"
      },
      "execution_count": 75,
      "outputs": []
    },
    {
      "cell_type": "code",
      "execution_count": 76,
      "metadata": {
        "colab": {
          "base_uri": "https://localhost:8080/"
        },
        "id": "9j2IcE8AWW3e",
        "outputId": "aebc8209-dfd1-4e18-c7c0-d9e257ba7671"
      },
      "outputs": [
        {
          "output_type": "stream",
          "name": "stdout",
          "text": [
            "56017\n"
          ]
        }
      ],
      "source": [
        "import re\n",
        "from num2words import num2words\n",
        "from word2number import w2n\n",
        "\n",
        "def calculate(num1_str, num2_str):\n",
        "    return w2n.word_to_num(num1_str)*10+w2n.word_to_num(num2_str)\n",
        "\n",
        "def get_cali_value(line):\n",
        "    #part 1\n",
        "    # exp = \"[0-9]\"\n",
        "\n",
        "    #part 2\n",
        "    words_re = \"|\".join([num2words(number) for number in range(1, 10)])\n",
        "    exp = f\"(?=([0-9]|{words_re}))\"\n",
        "\n",
        "    #shared\n",
        "    nums = re.findall(exp, line)\n",
        "    answer = calculate(nums[0],nums[-1])\n",
        "\n",
        "    return answer\n",
        "\n",
        "with open('/input.txt', 'r') as f:\n",
        "    print(sum([get_cali_value(line) for line in f]))\n",
        ""
      ]
    }
  ]
}