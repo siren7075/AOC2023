{
  "nbformat": 4,
  "nbformat_minor": 0,
  "metadata": {
    "colab": {
      "provenance": [],
      "machine_shape": "hm",
      "include_colab_link": true
    },
    "kernelspec": {
      "name": "python3",
      "display_name": "Python 3"
    },
    "language_info": {
      "name": "python"
    }
  },
  "cells": [
    {
      "cell_type": "markdown",
      "metadata": {
        "id": "view-in-github",
        "colab_type": "text"
      },
      "source": [
        "<a href=\"https://colab.research.google.com/github/siren7075/AOC2023/blob/main/Day2/Day2.ipynb\" target=\"_parent\"><img src=\"https://colab.research.google.com/assets/colab-badge.svg\" alt=\"Open In Colab\"/></a>"
      ]
    },
    {
      "cell_type": "code",
      "execution_count": 61,
      "metadata": {
        "id": "9j2IcE8AWW3e",
        "colab": {
          "base_uri": "https://localhost:8080/"
        },
        "outputId": "b312fd01-1e67-4e57-89ce-74ab5515a4b8"
      },
      "outputs": [
        {
          "output_type": "stream",
          "name": "stdout",
          "text": [
            "2593\n",
            "54699\n"
          ]
        }
      ],
      "source": [
        "bags_data = []\n",
        "\n",
        "import re\n",
        "\n",
        "with open(\"input.txt\") as f:\n",
        "    input = f.read()\n",
        "    for line in input.split(\"\\n\"):\n",
        "      game_id = re.match(r'^Game (\\d+):', line).group(1)\n",
        "      bags = re.finditer(r'\\D(\\d+) (red|green|blue)', line)\n",
        "      bag_color = {\"game\": int(game_id), \"red\": 0, \"green\": 0, \"blue\": 0}\n",
        "      for bag in bags:\n",
        "        color = bag.group(2)\n",
        "        color_count = int(bag.group(1))\n",
        "        bag_color[color] = max(bag_color[color], color_count)\n",
        "      bags_data.append(bag_color)\n",
        "\n",
        "# part 1\n",
        "filtered_bags = [bag for bag in bags_data if bag[\"red\"] <= 12 and bag[\"green\"] <= 13 and bag[\"blue\"] <= 14]\n",
        "total_game_sum = 0\n",
        "for bag in filtered_bags:\n",
        "    total_game_sum += bag[\"game\"]\n",
        "print(total_game_sum)\n",
        "\n",
        "# part 2\n",
        "product_sum = 0\n",
        "for bag in bags_data:\n",
        "    product_sum += bag[\"red\"] * bag[\"green\"] * bag[\"blue\"]\n",
        "print(product_sum)"
      ]
    }
  ]
}