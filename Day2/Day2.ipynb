{
  "cells": [
    {
      "cell_type": "markdown",
      "metadata": {
        "id": "view-in-github",
        "colab_type": "text"
      },
      "source": [
        "<a href=\"https://colab.research.google.com/github/siren7075/AOC2023/blob/main/Day2/Day2.ipynb\" target=\"_parent\"><img src=\"https://colab.research.google.com/assets/colab-badge.svg\" alt=\"Open In Colab\"/></a>"
      ]
    },
    {
      "cell_type": "code",
      "source": [
        "points = []\n",
        "\n",
        "def calculate_point (card):\n",
        "  winning_nums, my_nums = [c.split() for c in card.split(\"|\")]\n",
        "  my_wins = sum([1 for my_num in my_nums if my_num in winning_nums])\n",
        "  if my_wins == 0:\n",
        "      card_point = 0\n",
        "  else:\n",
        "      card_point = 2 ** my_wins / 2\n",
        "  return card_point, my_wins\n",
        "\n",
        "with open('input.txt', 'r') as f:\n",
        "    lines = f.readlines()\n",
        "    cards_no_prefix = [line.split(\": \")[1].strip() for line in lines]\n",
        "    instances = [0] * len(cards_no_prefix) # default all to 0\n",
        "    for i, card in enumerate(cards_no_prefix):\n",
        "      card_point, my_wins = calculate_point(card)\n",
        "      points.append(card_point)\n",
        "      instances[i] += 1\n",
        "      for j in range(1, my_wins+1):\n",
        "        instances[i+j] += instances[i]\n",
        "\n",
        "    # part 1\n",
        "    total_points = int(sum(points))\n",
        "    print(\"Part 1 Total points:\", total_points)\n",
        "\n",
        "    #part 2\n",
        "    total_cards = sum(instances)\n",
        "    print(\"Part 2 Total cards:\", total_cards)"
      ],
      "metadata": {
        "id": "CU-aMTyYDMu9"
      },
      "execution_count": null,
      "outputs": []
    }
  ],
  "metadata": {
    "colab": {
      "name": "Welcome To Colaboratory",
      "provenance": [],
      "include_colab_link": true
    },
    "kernelspec": {
      "display_name": "Python 3",
      "name": "python3"
    }
  },
  "nbformat": 4,
  "nbformat_minor": 0
}