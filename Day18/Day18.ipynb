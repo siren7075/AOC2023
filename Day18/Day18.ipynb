{
  "nbformat": 4,
  "nbformat_minor": 0,
  "metadata": {
    "colab": {
      "provenance": [],
      "machine_shape": "hm",
      "include_colab_link": true
    },
    "kernelspec": {
      "name": "python3",
      "display_name": "Python 3"
    },
    "language_info": {
      "name": "python"
    }
  },
  "cells": [
    {
      "cell_type": "markdown",
      "metadata": {
        "id": "view-in-github",
        "colab_type": "text"
      },
      "source": [
        "<a href=\"https://colab.research.google.com/github/siren7075/AOC2023/blob/main/Day18/Day18.ipynb\" target=\"_parent\"><img src=\"https://colab.research.google.com/assets/colab-badge.svg\" alt=\"Open In Colab\"/></a>"
      ]
    },
    {
      "cell_type": "code",
      "source": [
        "# parse data\n",
        "\n",
        "import collections\n",
        "\n",
        "plans = []\n",
        "Plan = collections.namedtuple(\"plan\", [\"dir\", \"count\", \"color\"])\n",
        "\n",
        "with open('input.txt', 'r') as file:\n",
        "  input_data = file.read().splitlines()\n",
        "  for digs in input_data:\n",
        "    dir, count, color = digs.split()\n",
        "    plans.append(Plan(dir, int(count), color[1:-1]))"
      ],
      "metadata": {
        "id": "che24hn6nz5g"
      },
      "execution_count": 45,
      "outputs": []
    },
    {
      "cell_type": "code",
      "source": [
        "coords = [(0,0)]\n",
        "directions = {\n",
        "    \"U\": (-1, 0),\n",
        "    \"D\": (1, 0),\n",
        "    \"L\": (0, 1),\n",
        "    \"R\": (0, -1)}\n",
        "\n",
        "def dig(current_position, plan):\n",
        "    new_pos = []\n",
        "    for pos, direction in zip(current_position, directions[plan.dir]):\n",
        "        new_coord = pos + plan.count * direction\n",
        "        new_pos.append(new_coord)\n",
        "    return tuple(new_pos)\n",
        "\n",
        "def calculate_cords(plans):\n",
        "    coords = [(0,0)]\n",
        "    current_position = coords[0]\n",
        "    for plan in plans:\n",
        "      current_position = dig(current_position, plan)\n",
        "      coords.append(current_position)\n",
        "    return coords\n",
        "\n",
        "def calculate_area(positions):\n",
        "    segments = zip(positions, positions[1:] + [positions[0]])\n",
        "    area = 0.5 * abs(sum(x0 * y1 - x1 * y0 for ((x0, y0), (x1, y1)) in segments))\n",
        "    return area\n",
        "\n",
        "def calculate_result(coords, plans):\n",
        "    return calculate_area(coords) + 1 + sum(plan.count for plan in plans)/2\n",
        "\n",
        "# part 1\n",
        "coords = calculate_cords(plans)\n",
        "result_1 = calculate_result(coords, plans)\n",
        "print(int(result_1))\n",
        "\n",
        "# part 2\n",
        "plans_2 = []\n",
        "def covert_color(color):\n",
        "  dir = {\"0\": \"R\", \"1\": \"D\", \"2\": \"L\", \"3\": \"U\"}[color[-1]]\n",
        "  count = int(\"0x\" + color[1:-1], 0)\n",
        "  return Plan(dir, count, None)\n",
        "\n",
        "for plan in plans:\n",
        "  plans_2.append(covert_color(plan.color))\n",
        "coords_2 = calculate_cords(plans_2)\n",
        "result_2 = calculate_result(coords_2, plans_2)\n",
        "print(int(result_2))\n"
      ],
      "metadata": {
        "colab": {
          "base_uri": "https://localhost:8080/"
        },
        "id": "TcgXS3sVwapo",
        "outputId": "cefe39af-6408-4a32-8be8-b2444a9c505b"
      },
      "execution_count": 46,
      "outputs": [
        {
          "output_type": "stream",
          "name": "stdout",
          "text": [
            "42317\n",
            "83605563360288\n"
          ]
        }
      ]
    }
  ]
}