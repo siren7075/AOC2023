{
  "nbformat": 4,
  "nbformat_minor": 0,
  "metadata": {
    "colab": {
      "provenance": [],
      "machine_shape": "hm",
      "authorship_tag": "ABX9TyOCIBal5KommIOHqcd/Ogs4",
      "include_colab_link": true
    },
    "kernelspec": {
      "name": "python3",
      "display_name": "Python 3"
    },
    "language_info": {
      "name": "python"
    }
  },
  "cells": [
    {
      "cell_type": "markdown",
      "metadata": {
        "id": "view-in-github",
        "colab_type": "text"
      },
      "source": [
        "<a href=\"https://colab.research.google.com/github/siren7075/AOC2023/blob/main/Day5/Day5.ipynb\" target=\"_parent\"><img src=\"https://colab.research.google.com/assets/colab-badge.svg\" alt=\"Open In Colab\"/></a>"
      ]
    },
    {
      "cell_type": "code",
      "execution_count": 2,
      "metadata": {
        "id": "9j2IcE8AWW3e"
      },
      "outputs": [],
      "source": [
        "import re\n",
        "\n",
        "with open('input.txt', 'r') as file:\n",
        "    lines = file.read().splitlines()\n",
        "# parse seeds\n",
        "seeds = [int(seed) for seed in re.findall(r'\\d+', lines[0])]\n",
        "# parse maps\n",
        "maps = {}\n",
        "for line in lines[1:]:\n",
        "    if ':' in line:\n",
        "        key = line\n",
        "        maps[key] = []\n",
        "    elif line != '':\n",
        "        values = tuple(int(x) for x in re.findall(r'\\d+', line))\n",
        "        maps[key].append(values)"
      ]
    },
    {
      "cell_type": "code",
      "source": [
        "# part 1\n",
        "def find_location(seed, maps):\n",
        "    for key, values in maps.items():\n",
        "        # value: (destination, source, length)\n",
        "        for value in values:\n",
        "            if value[1] <= seed < value[1] + value[2]:\n",
        "                seed = seed - value[1] + value[0]\n",
        "                break\n",
        "    return seed\n",
        "\n",
        "locations = [find_location(seed, maps) for seed in seeds]\n",
        "min_location = min(locations)\n",
        "print(min_location)\n",
        "\n",
        "# part 2\n",
        "def get_new_ranges(map, seeds_range):\n",
        "    new_ranges = []\n",
        "    for seed in seeds_range:\n",
        "        for dest, source, len in map:\n",
        "            source_end = source + len - 1\n",
        "            dest_end = dest + len - 1\n",
        "            if seed[1]<source or seed[0]>source_end:\n",
        "                continue\n",
        "            res_start = max(seed[0], source)\n",
        "            res_end = min(seed[1], source_end)\n",
        "            diff = dest - source\n",
        "            new_ranges.append((res_start + diff, res_end + diff))\n",
        "            if seed[0]<res_start-1:\n",
        "                seeds_range.append((seed[0], res_start-1))\n",
        "            if seed[1]-1>res_end:\n",
        "                seeds_range.append((res_end+1, seed[1]))\n",
        "            break\n",
        "        else:\n",
        "            new_ranges.append((seed[0], seed[1]))\n",
        "    return new_ranges\n",
        "\n",
        "def find_locations_range(seeds_range, maps):\n",
        "    new_ranges = list(seeds_range)\n",
        "    for key, values in maps.items():\n",
        "        map_ranges = list(new_ranges)\n",
        "        # clear the current ranges when entering a new map\n",
        "        new_ranges.clear()\n",
        "        new_ranges.extend(get_new_ranges(values, map_ranges))\n",
        "    return new_ranges\n",
        "\n",
        "seeds_range = []\n",
        "seeds_range = [(start, start + length - 1) for start, length in zip(seeds[::2], seeds[1::2])]\n",
        "locations_range = find_locations_range(seeds_range, maps)\n",
        "print(min(min(locations_range)))\n"
      ],
      "metadata": {
        "id": "dHN57rRTMbEO",
        "outputId": "ca79161b-93f0-42a0-81a6-4807d0792870",
        "colab": {
          "base_uri": "https://localhost:8080/"
        }
      },
      "execution_count": 43,
      "outputs": [
        {
          "output_type": "stream",
          "name": "stdout",
          "text": [
            "226172555\n",
            "47909639\n"
          ]
        }
      ]
    }
  ]
}