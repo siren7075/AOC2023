{
  "nbformat": 4,
  "nbformat_minor": 0,
  "metadata": {
    "colab": {
      "provenance": [],
      "machine_shape": "hm",
      "include_colab_link": true
    },
    "kernelspec": {
      "name": "python3",
      "display_name": "Python 3"
    },
    "language_info": {
      "name": "python"
    }
  },
  "cells": [
    {
      "cell_type": "markdown",
      "metadata": {
        "id": "view-in-github",
        "colab_type": "text"
      },
      "source": [
        "<a href=\"https://colab.research.google.com/github/siren7075/AOC2023/blob/main/Day6/Day6.ipynb\" target=\"_parent\"><img src=\"https://colab.research.google.com/assets/colab-badge.svg\" alt=\"Open In Colab\"/></a>"
      ]
    },
    {
      "cell_type": "code",
      "execution_count": 24,
      "metadata": {
        "id": "9j2IcE8AWW3e",
        "outputId": "26d7a7d2-682c-4b5b-dceb-44981601a6aa",
        "colab": {
          "base_uri": "https://localhost:8080/"
        }
      },
      "outputs": [
        {
          "output_type": "stream",
          "name": "stdout",
          "text": [
            "219849\n",
            "29432455\n"
          ]
        }
      ],
      "source": [
        "data = []\n",
        "data2 = []\n",
        "with open('input.txt', 'r') as file:\n",
        "    lines = file.read().split(\"\\n\")\n",
        "    time_values = lines[0].split()[1:]\n",
        "    distance_values = lines[1].split()[1:]\n",
        "    data = list(zip(time_values, distance_values))\n",
        "    combined_data = [''.join(x) for x in zip(*data)]\n",
        "    data_2 = data2.append((combined_data[0], combined_data[1]))\n",
        "\n",
        "def calculate_result(data):\n",
        "    result = 1\n",
        "    for time, distance in data:\n",
        "        ways = sum(1 for hold in range(int(time)) if hold * (int(time)-hold) > int(distance))\n",
        "        result *= ways\n",
        "    return result\n",
        "\n",
        "# part 1\n",
        "print(calculate_result(data))\n",
        "# part 2\n",
        "print(calculate_result(data2))"
      ]
    }
  ]
}