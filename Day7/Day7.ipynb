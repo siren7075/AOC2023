{
  "nbformat": 4,
  "nbformat_minor": 0,
  "metadata": {
    "colab": {
      "provenance": [],
      "machine_shape": "hm",
      "include_colab_link": true
    },
    "kernelspec": {
      "name": "python3",
      "display_name": "Python 3"
    },
    "language_info": {
      "name": "python"
    }
  },
  "cells": [
    {
      "cell_type": "markdown",
      "metadata": {
        "id": "view-in-github",
        "colab_type": "text"
      },
      "source": [
        "<a href=\"https://colab.research.google.com/github/siren7075/AOC2023/blob/main/Day7/Day7.ipynb\" target=\"_parent\"><img src=\"https://colab.research.google.com/assets/colab-badge.svg\" alt=\"Open In Colab\"/></a>"
      ]
    },
    {
      "cell_type": "code",
      "execution_count": 119,
      "metadata": {
        "id": "9j2IcE8AWW3e"
      },
      "outputs": [],
      "source": [
        "plays = []\n",
        "scores = []\n",
        "\n",
        "def remove_element(lst, element):\n",
        "    return [x for x in lst if x != element]\n",
        "\n",
        "def calculate_hand_score(hand, wildcard=None):\n",
        "  if wildcard:\n",
        "    wild_card_count = hand.count(wildcard)\n",
        "    hand = remove_element(hand, wildcard)\n",
        "  card_counts = sorted(hand.count(card)for card in set(hand))[::-1]\n",
        "  if wildcard:\n",
        "    if all(card == wildcard for card in hand):\n",
        "      card_counts = [5]\n",
        "    else:\n",
        "      card_counts[0]+=wild_card_count\n",
        "  possible_scores = [\n",
        "      [5],                # Five of a kind\n",
        "      [4, 1],             # Four of a kind\n",
        "      [3, 2],             # Full house\n",
        "      [3, 1, 1],          # Three of a kind\n",
        "      [2, 2, 1],          # Two pair\n",
        "      [2, 1, 1, 1],       # One pair\n",
        "      [1, 1, 1, 1, 1]     # High card\n",
        "  ]\n",
        "  hand_score = possible_scores[::-1].index(card_counts)\n",
        "  return hand_score\n",
        "\n",
        "def calculate_card_score(card, override_ranks=None):\n",
        "    card_ranks = override_ranks if override_ranks is not None else \"AKQJT98765432\"\n",
        "    card_score = card_ranks[::-1].index(card)\n",
        "    return card_score\n",
        "\n",
        "def calculate_total_score(scores):\n",
        "    score = 0\n",
        "    for i, (hand, hand_score, bid) in enumerate(scores):\n",
        "      score += (i + 1) * bid\n",
        "    return(score)\n",
        "\n",
        "with open('/input.txt', 'r') as file:\n",
        "    lines = file.read()\n",
        "    for line in lines.split(\"\\n\"):\n",
        "        hand_string, bid = line.split(\" \")\n",
        "        hand = list(hand_string)\n",
        "        plays.append((hand, int(bid)))"
      ]
    },
    {
      "cell_type": "code",
      "source": [
        "# part 1\n",
        "for play in plays:\n",
        "  hand, bid = play\n",
        "  hand_score = calculate_hand_score(hand)\n",
        "  scores.append((hand, hand_score, bid))\n",
        "  scores.sort(key=lambda x: (x[1], [calculate_card_score(card) for card in x[0]]))\n",
        "total_score=calculate_total_score(scores)\n",
        "print(total_score)"
      ],
      "metadata": {
        "id": "S5X4-WYUNJrx",
        "outputId": "21327924-9d82-4ae4-c380-f8715cdee103",
        "colab": {
          "base_uri": "https://localhost:8080/"
        }
      },
      "execution_count": 120,
      "outputs": [
        {
          "output_type": "stream",
          "name": "stdout",
          "text": [
            "248836197\n"
          ]
        }
      ]
    },
    {
      "cell_type": "code",
      "source": [
        "# part 2\n",
        "scores.clear()\n",
        "for play in plays:\n",
        "  hand, bid = play\n",
        "  hand_score = calculate_hand_score(hand, \"J\")\n",
        "  scores.append((hand, hand_score, bid))\n",
        "  scores.sort(key=lambda x: (x[1], [calculate_card_score(card, \"AKQT98765432J\") for card in x[0]]))\n",
        "#print(scores)\n",
        "total_score=calculate_total_score(scores)\n",
        "print(total_score)"
      ],
      "metadata": {
        "id": "U8Hi5Vq2j8wF",
        "outputId": "58531dc5-2530-408c-c000-560fde57d3f5",
        "colab": {
          "base_uri": "https://localhost:8080/"
        }
      },
      "execution_count": 121,
      "outputs": [
        {
          "output_type": "stream",
          "name": "stdout",
          "text": [
            "251195607\n"
          ]
        }
      ]
    }
  ]
}